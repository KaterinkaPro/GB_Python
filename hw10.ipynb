{
  "nbformat": 4,
  "nbformat_minor": 0,
  "metadata": {
    "colab": {
      "provenance": [],
      "authorship_tag": "ABX9TyMtsocDVdqaei7G7N+1MEPi",
      "include_colab_link": true
    },
    "kernelspec": {
      "name": "python3",
      "display_name": "Python 3"
    },
    "language_info": {
      "name": "python"
    }
  },
  "cells": [
    {
      "cell_type": "markdown",
      "metadata": {
        "id": "view-in-github",
        "colab_type": "text"
      },
      "source": [
        "<a href=\"https://colab.research.google.com/github/justsound/GB_Python/blob/main/hw10.ipynb\" target=\"_parent\"><img src=\"https://colab.research.google.com/assets/colab-badge.svg\" alt=\"Open In Colab\"/></a>"
      ]
    },
    {
      "cell_type": "code",
      "source": [
        "import pandas as pd"
      ],
      "metadata": {
        "id": "gtLEZ7ZIZ8pM"
      },
      "execution_count": 2,
      "outputs": []
    },
    {
      "cell_type": "code",
      "execution_count": null,
      "metadata": {
        "id": "pwV2MpYWZwkj"
      },
      "outputs": [],
      "source": [
        "import random\n",
        "lst = ['robot'] * 10\n",
        "lst += ['human'] * 10\n",
        "random.shuffle(lst)\n",
        "data = pd.DataFrame({'whoAmI':lst})\n",
        "data.head(20)\n"
      ]
    },
    {
      "cell_type": "code",
      "source": [
        "pd.get_dummies(data, ['whoAmI'])\n"
      ],
      "metadata": {
        "id": "ofjhQPLYZ3Je"
      },
      "execution_count": null,
      "outputs": []
    },
    {
      "cell_type": "code",
      "source": [
        "data.loc[data['whoAmI'] == 'robot', 'whoAmI_robot'] = 1\n",
        "data.loc[data['whoAmI'] != 'robot', 'whoAmI_robot'] = 0\n",
        "data.loc[data['whoAmI'] == 'human', 'whoAmI_human'] = 1\n",
        "data.loc[data['whoAmI'] != 'human', 'whoAmI_human'] = 0\n",
        "\n",
        "new_data = data[['whoAmI_robot', 'whoAmI_human']]\n",
        "print(new_data.head())"
      ],
      "metadata": {
        "colab": {
          "base_uri": "https://localhost:8080/"
        },
        "id": "Ap_b0zDqcTsF",
        "outputId": "3835a8f8-3766-4f95-c2af-4ae5ac6a5915"
      },
      "execution_count": 27,
      "outputs": [
        {
          "output_type": "stream",
          "name": "stdout",
          "text": [
            "   whoAmI_robot  whoAmI_human\n",
            "0           0.0           1.0\n",
            "1           0.0           1.0\n",
            "2           0.0           1.0\n",
            "3           0.0           1.0\n",
            "4           1.0           0.0\n"
          ]
        }
      ]
    }
  ]
}